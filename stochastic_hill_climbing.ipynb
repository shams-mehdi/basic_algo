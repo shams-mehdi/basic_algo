{
  "nbformat": 4,
  "nbformat_minor": 0,
  "metadata": {
    "colab": {
      "name": "stochastic_hill_climbing.ipynb",
      "provenance": [],
      "collapsed_sections": [],
      "authorship_tag": "ABX9TyNSuZ5b9eImpxGmLANR7UfZ",
      "include_colab_link": true
    },
    "kernelspec": {
      "name": "python3",
      "display_name": "Python 3"
    },
    "language_info": {
      "name": "python"
    }
  },
  "cells": [
    {
      "cell_type": "markdown",
      "metadata": {
        "id": "view-in-github",
        "colab_type": "text"
      },
      "source": [
        "<a href=\"https://colab.research.google.com/github/shams-mehdi/basic_algo/blob/main/stochastic_hill_climbing.ipynb\" target=\"_parent\"><img src=\"https://colab.research.google.com/assets/colab-badge.svg\" alt=\"Open In Colab\"/></a>"
      ]
    },
    {
      "cell_type": "markdown",
      "source": [
        "**Stochastic Hill Climbing**\n",
        "\n",
        "Local optimization algortihm<n>\n",
        "\n",
        "\n",
        "*   Starts from a local solution and searches nearby areas\n",
        "*   Good to run after a global optimization algorithm\n",
        "*   Uses randomness to escape local barriers\n",
        "*   Name \"hill climbing\" comes from applications to maximization problems\n",
        "\n",
        "Takes initial point as input and generate a new point within search step size (also input). If it is equal or better than the current point, new value is accepted.\n",
        "\n"
      ],
      "metadata": {
        "id": "dKLJD9FmwMkk"
      }
    },
    {
      "cell_type": "code",
      "execution_count": 9,
      "metadata": {
        "colab": {
          "base_uri": "https://localhost:8080/"
        },
        "id": "VQ9wNXdSwF2S",
        "outputId": "1c6ac49b-ab4f-4543-b9ab-48e553b2d4a2"
      },
      "outputs": [
        {
          "output_type": "stream",
          "name": "stderr",
          "text": [
            "100%|██████████| 5000/5000 [00:00<00:00, 251771.03it/s]\n"
          ]
        }
      ],
      "source": [
        "import numpy as np\n",
        "import random\n",
        "import matplotlib.pyplot as plt\n",
        "from tqdm import tqdm\n",
        "\n",
        "#define objective function\n",
        "def obj(x):\n",
        "  return x**2\n",
        "\n",
        "#define domain for initial guess\n",
        "bound = np.array([-5,5])\n",
        "\n",
        "def shc(obj, bound, step_size, iterations):\n",
        "  x = np.random.uniform(bound[0],bound[1])\n",
        "  best_y = obj(x)\n",
        "  trial_x_store = np.zeros((iterations))\n",
        "  trial_y_store = np.zeros((iterations))\n",
        "\n",
        "  improv_counter = 0\n",
        "  improv_y = []\n",
        "  for i in tqdm(range(iterations)):\n",
        "    trial_x = x + np.random.uniform(-step_size,step_size)\n",
        "    trial_y = obj(trial_x)\n",
        "    trial_x_store[i] = trial_x\n",
        "    trial_y_store[i] = trial_y\n",
        "\n",
        "    if trial_y <= best_y:\n",
        "      best_y = trial_y\n",
        "      x = trial_x\n",
        "      improv_counter += 1\n",
        "      improv_y.append(best_y)\n",
        "    \n",
        "  return trial_x_store, trial_y_store, improv_counter, improv_y\n",
        "\n",
        "trial_x_store, trial_y_store, improv_counter, improv_y = shc(obj, bound, 0.5, 5000)"
      ]
    },
    {
      "cell_type": "code",
      "source": [
        "fig,ax = plt.subplots(1,2,figsize = (16,8))\n",
        "ax[0].plot(trial_x_store,trial_y_store, 'x', markersize = 2)\n",
        "ax[1].plot(np.arange(improv_counter), improv_y, 'o', markersize = 10)\n",
        "\n",
        "ax[0].set_xlabel('x', fontsize = 24)\n",
        "ax[0].set_ylabel('y', fontsize = 24)\n",
        "ax[1].set_xlabel('Number of improvement', fontsize = 24)\n",
        "ax[1].set_ylabel('y', fontsize = 24)\n",
        "ax[1].set_xticks(np.arange(improv_counter))"
      ],
      "metadata": {
        "colab": {
          "base_uri": "https://localhost:8080/",
          "height": 858
        },
        "id": "kOZSa-lnzdxE",
        "outputId": "64ce5ece-7806-4bfc-c913-d14b51eb59d8"
      },
      "execution_count": 18,
      "outputs": [
        {
          "output_type": "execute_result",
          "data": {
            "text/plain": [
              "[<matplotlib.axis.XTick at 0x7f4be6544710>,\n",
              " <matplotlib.axis.XTick at 0x7f4be65446d0>,\n",
              " <matplotlib.axis.XTick at 0x7f4be6544310>,\n",
              " <matplotlib.axis.XTick at 0x7f4be64f7750>,\n",
              " <matplotlib.axis.XTick at 0x7f4be64f7cd0>,\n",
              " <matplotlib.axis.XTick at 0x7f4be64ff2d0>,\n",
              " <matplotlib.axis.XTick at 0x7f4be64ff7d0>,\n",
              " <matplotlib.axis.XTick at 0x7f4be64f7d90>,\n",
              " <matplotlib.axis.XTick at 0x7f4be64ff750>,\n",
              " <matplotlib.axis.XTick at 0x7f4be6507210>,\n",
              " <matplotlib.axis.XTick at 0x7f4be65076d0>,\n",
              " <matplotlib.axis.XTick at 0x7f4be6507c10>,\n",
              " <matplotlib.axis.XTick at 0x7f4be650f0d0>,\n",
              " <matplotlib.axis.XTick at 0x7f4be650f6d0>,\n",
              " <matplotlib.axis.XTick at 0x7f4be650fd50>,\n",
              " <matplotlib.axis.XTick at 0x7f4be6518290>,\n",
              " <matplotlib.axis.XTick at 0x7f4be6518750>,\n",
              " <matplotlib.axis.XTick at 0x7f4be650f650>,\n",
              " <matplotlib.axis.XTick at 0x7f4be64ff6d0>,\n",
              " <matplotlib.axis.XTick at 0x7f4be6518a90>]"
            ]
          },
          "metadata": {},
          "execution_count": 18
        },
        {
          "output_type": "display_data",
          "data": {
            "text/plain": [
              "<Figure size 1152x576 with 2 Axes>"
            ],
            "image/png": "[encoded data removed]"
          },
          "metadata": {
            "needs_background": "light"
          }
        }
      ]
    },
    {
      "cell_type": "markdown",
      "source": [
        "Notes:\n",
        "\n",
        "\n",
        "*   After finding a \"best/minimum\" value it doesnt go more than the step size to the opposite of the starting side\n",
        "*   Condition for acceptance should include equality condition to encourage lateral movement. Otherwise, the algorithm may get stuck in a region of long flat surface\n",
        "\n",
        "[reference](https://machinelearningmastery.com/stochastic-hill-climbing-in-python-from-scratch/)\n"
      ],
      "metadata": {
        "id": "qgA74nL-5YoF"
      }
    }
  ]
}